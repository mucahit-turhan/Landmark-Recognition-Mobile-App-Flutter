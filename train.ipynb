{
  "nbformat": 4,
  "nbformat_minor": 0,
  "metadata": {
    "colab": {
      "name": "VGG.ipynb",
      "provenance": [],
      "collapsed_sections": []
    },
    "kernelspec": {
      "name": "python3",
      "display_name": "Python 3"
    },
    "accelerator": "GPU"
  },
  "cells": [
    {
      "cell_type": "code",
      "metadata": {
        "id": "Jrko10VsAeAb",
        "colab_type": "code",
        "outputId": "27966d35-0924-4e3b-b925-fdbe8f18c911",
        "colab": {
          "base_uri": "https://localhost:8080/",
          "height": 1000
        }
      },
      "source": [
        "import numpy as np\n",
        "import pandas as pd\n",
        "from keras.models import Model\n",
        "from keras.layers import Dense,Conv2D,MaxPooling2D,Flatten,Dropout\n",
        "from keras.preprocessing.image import ImageDataGenerator\n",
        "from keras.preprocessing import image\n",
        "from keras.applications import VGG16\n",
        "from keras.optimizers import Adam\n",
        "import keras.backend as K\n",
        "\n",
        "\n",
        "#Generating training and testing datasets\n",
        "train_datagen= ImageDataGenerator(rescale=1./255, shear_range=0.2, zoom_range=0.1, horizontal_flip= True)\n",
        "valid_datagen= ImageDataGenerator(rescale=1./255)\n",
        "size=(128,128)\n",
        "in_shape=(128,128,3)\n",
        "train_set= train_datagen.flow_from_directory(\"train/\", \n",
        "                                             target_size=size, batch_size=100, class_mode=\"categorical\", \n",
        "                                             shuffle=True, seed=20)\n",
        "valid_set= valid_datagen.flow_from_directory(\"test/\", \n",
        "                                             target_size=size, batch_size=100, class_mode=\"categorical\", \n",
        "                                             shuffle=False)\n",
        "\n",
        "#using pre-trained model\n",
        "base_model=VGG16(input_shape=in_shape, weights=\"imagenet\", include_top=False)\n",
        "\n",
        "x=base_model.output\n",
        "x=Conv2D(32, (3,3), activation=\"relu\")(x)\n",
        "x=MaxPooling2D(pool_size=(2,2))(x)\n",
        "x=Flatten()(x)\n",
        "x=Dense(units=128, activation=\"relu\")(x)\n",
        "x=Dense(units=64, activation=\"relu\")(x)\n",
        "x=Dense(units=32, activation=\"relu\")(x)\n",
        "x=Dense(units=25, activation=\"softmax\")(x)\n",
        "\n",
        "model=Model(inputs=base_model.inputs, outputs=x)\n",
        "\n",
        "for layer in model.layers[:16]:\n",
        "  layer.trainable=False\n",
        "\n",
        "for layer in model.layers[16:]:\n",
        "    layer.trainable=True\n",
        "\n",
        "#Compile and fit the datasets\n",
        "model.compile(optimizer=Adam(lr=0.001), loss=\"categorical_crossentropy\", metrics=[\"accuracy\"])\n",
        "step_size_train=train_set.n//train_set.batch_size\n",
        "step_size_valid=valid_set.n//valid_set.batch_size\n",
        "model.fit_generator(train_set, steps_per_epoch=step_size_train, epochs=40, \n",
        "                    validation_data= valid_set, validation_steps=step_size_valid)\n",
        "\n",
        "model.save(\"test3.h5\")\n"
      ],
      "execution_count": 0,
      "outputs": [
        {
          "output_type": "stream",
          "text": [
            "Found 44297 images belonging to 25 classes.\n",
            "Found 12642 images belonging to 25 classes.\n",
            "Epoch 1/40\n",
            "442/442 [==============================] - 293s 663ms/step - loss: 1.1606 - accuracy: 0.6600 - val_loss: 0.4623 - val_accuracy: 0.8252\n",
            "Epoch 2/40\n",
            "442/442 [==============================] - 290s 656ms/step - loss: 0.4819 - accuracy: 0.8640 - val_loss: 0.2235 - val_accuracy: 0.8786\n",
            "Epoch 3/40\n",
            "442/442 [==============================] - 288s 651ms/step - loss: 0.3615 - accuracy: 0.8958 - val_loss: 0.1874 - val_accuracy: 0.8926\n",
            "Epoch 4/40\n",
            "442/442 [==============================] - 288s 651ms/step - loss: 0.2800 - accuracy: 0.9192 - val_loss: 0.3363 - val_accuracy: 0.9080\n",
            "Epoch 5/40\n",
            "442/442 [==============================] - 288s 652ms/step - loss: 0.2346 - accuracy: 0.9324 - val_loss: 0.2643 - val_accuracy: 0.9144\n",
            "Epoch 6/40\n",
            "442/442 [==============================] - 288s 651ms/step - loss: 0.2120 - accuracy: 0.9385 - val_loss: 0.2829 - val_accuracy: 0.9193\n",
            "Epoch 7/40\n",
            "442/442 [==============================] - 288s 652ms/step - loss: 0.1931 - accuracy: 0.9439 - val_loss: 0.2142 - val_accuracy: 0.9152\n",
            "Epoch 8/40\n",
            "442/442 [==============================] - 287s 650ms/step - loss: 0.1626 - accuracy: 0.9530 - val_loss: 0.5432 - val_accuracy: 0.9291\n",
            "Epoch 9/40\n",
            "442/442 [==============================] - 287s 650ms/step - loss: 0.1502 - accuracy: 0.9572 - val_loss: 0.5338 - val_accuracy: 0.9233\n",
            "Epoch 10/40\n",
            "442/442 [==============================] - 287s 649ms/step - loss: 0.1396 - accuracy: 0.9605 - val_loss: 0.1778 - val_accuracy: 0.9215\n",
            "Epoch 11/40\n",
            "442/442 [==============================] - 286s 648ms/step - loss: 0.1344 - accuracy: 0.9624 - val_loss: 0.4221 - val_accuracy: 0.9316\n",
            "Epoch 12/40\n",
            "442/442 [==============================] - 286s 647ms/step - loss: 0.1240 - accuracy: 0.9647 - val_loss: 0.4083 - val_accuracy: 0.9333\n",
            "Epoch 13/40\n",
            "442/442 [==============================] - 286s 647ms/step - loss: 0.1104 - accuracy: 0.9684 - val_loss: 0.8245 - val_accuracy: 0.9270\n",
            "Epoch 14/40\n",
            "442/442 [==============================] - 286s 647ms/step - loss: 0.1078 - accuracy: 0.9694 - val_loss: 0.4123 - val_accuracy: 0.9342\n",
            "Epoch 15/40\n",
            "442/442 [==============================] - 285s 646ms/step - loss: 0.1008 - accuracy: 0.9709 - val_loss: 0.3463 - val_accuracy: 0.9310\n",
            "Epoch 16/40\n",
            "442/442 [==============================] - 285s 646ms/step - loss: 0.0902 - accuracy: 0.9735 - val_loss: 0.6467 - val_accuracy: 0.9356\n",
            "Epoch 17/40\n",
            "442/442 [==============================] - 285s 645ms/step - loss: 0.0901 - accuracy: 0.9740 - val_loss: 0.1248 - val_accuracy: 0.9312\n",
            "Epoch 18/40\n",
            "442/442 [==============================] - 286s 646ms/step - loss: 0.0788 - accuracy: 0.9779 - val_loss: 0.0542 - val_accuracy: 0.9343\n",
            "Epoch 19/40\n",
            "442/442 [==============================] - 285s 645ms/step - loss: 0.0787 - accuracy: 0.9774 - val_loss: 0.6542 - val_accuracy: 0.9396\n",
            "Epoch 20/40\n",
            "442/442 [==============================] - 288s 651ms/step - loss: 0.0706 - accuracy: 0.9801 - val_loss: 0.2707 - val_accuracy: 0.9420\n",
            "Epoch 21/40\n",
            "442/442 [==============================] - 288s 652ms/step - loss: 0.0841 - accuracy: 0.9768 - val_loss: 0.0481 - val_accuracy: 0.9305\n",
            "Epoch 22/40\n",
            "442/442 [==============================] - 285s 644ms/step - loss: 0.0638 - accuracy: 0.9822 - val_loss: 0.0338 - val_accuracy: 0.9345\n",
            "Epoch 23/40\n",
            "442/442 [==============================] - 285s 644ms/step - loss: 0.0699 - accuracy: 0.9815 - val_loss: 0.3689 - val_accuracy: 0.9314\n",
            "Epoch 24/40\n",
            "442/442 [==============================] - 285s 645ms/step - loss: 0.0630 - accuracy: 0.9821 - val_loss: 0.1280 - val_accuracy: 0.9438\n",
            "Epoch 25/40\n",
            "442/442 [==============================] - 285s 645ms/step - loss: 0.0602 - accuracy: 0.9845 - val_loss: 0.2953 - val_accuracy: 0.9336\n",
            "Epoch 26/40\n",
            "442/442 [==============================] - 285s 644ms/step - loss: 0.0556 - accuracy: 0.9847 - val_loss: 0.0984 - val_accuracy: 0.9274\n",
            "Epoch 27/40\n",
            "442/442 [==============================] - 284s 643ms/step - loss: 0.0605 - accuracy: 0.9835 - val_loss: 0.0520 - val_accuracy: 0.9392\n",
            "Epoch 28/40\n",
            "442/442 [==============================] - 284s 642ms/step - loss: 0.0606 - accuracy: 0.9837 - val_loss: 0.0892 - val_accuracy: 0.9325\n",
            "Epoch 29/40\n",
            "442/442 [==============================] - 284s 643ms/step - loss: 0.0517 - accuracy: 0.9848 - val_loss: 0.0745 - val_accuracy: 0.9367\n",
            "Epoch 30/40\n",
            "442/442 [==============================] - 285s 644ms/step - loss: 0.0526 - accuracy: 0.9861 - val_loss: 0.1268 - val_accuracy: 0.9351\n",
            "Epoch 31/40\n",
            "442/442 [==============================] - 285s 644ms/step - loss: 0.0561 - accuracy: 0.9847 - val_loss: 0.1789 - val_accuracy: 0.9342\n",
            "Epoch 32/40\n",
            "442/442 [==============================] - 285s 644ms/step - loss: 0.0563 - accuracy: 0.9854 - val_loss: 0.2779 - val_accuracy: 0.9434\n",
            "Epoch 33/40\n",
            "442/442 [==============================] - 288s 652ms/step - loss: 0.0463 - accuracy: 0.9875 - val_loss: 0.2715 - val_accuracy: 0.9406\n",
            "Epoch 34/40\n",
            "442/442 [==============================] - 286s 646ms/step - loss: 0.0419 - accuracy: 0.9883 - val_loss: 0.2896 - val_accuracy: 0.9406\n",
            "Epoch 35/40\n",
            "442/442 [==============================] - 285s 646ms/step - loss: 0.0469 - accuracy: 0.9876 - val_loss: 0.3339 - val_accuracy: 0.9355\n",
            "Epoch 36/40\n",
            "442/442 [==============================] - 286s 646ms/step - loss: 0.0457 - accuracy: 0.9880 - val_loss: 0.5440 - val_accuracy: 0.9338\n",
            "Epoch 37/40\n",
            "442/442 [==============================] - 286s 647ms/step - loss: 0.0494 - accuracy: 0.9869 - val_loss: 0.0618 - val_accuracy: 0.9349\n",
            "Epoch 38/40\n",
            "442/442 [==============================] - 286s 647ms/step - loss: 0.0394 - accuracy: 0.9903 - val_loss: 0.6738 - val_accuracy: 0.9404\n",
            "Epoch 39/40\n",
            "442/442 [==============================] - 286s 646ms/step - loss: 0.0409 - accuracy: 0.9891 - val_loss: 0.3713 - val_accuracy: 0.9344\n",
            "Epoch 40/40\n",
            "442/442 [==============================] - 285s 645ms/step - loss: 0.0451 - accuracy: 0.9888 - val_loss: 0.6550 - val_accuracy: 0.9362\n"
          ],
          "name": "stdout"
        }
      ]
    },
    {
      "cell_type": "code",
      "metadata": {
        "id": "YipXANemkANa",
        "colab_type": "code",
        "outputId": "080b347b-6aea-4c96-d28e-1417498c2108",
        "colab": {
          "base_uri": "https://localhost:8080/",
          "height": 1000
        }
      },
      "source": [
        "import numpy\n",
        "import sklearn.metrics as metrics\n",
        "from sklearn.metrics import classification_report\n",
        "from sklearn.metrics import confusion_matrix\n",
        "\n",
        "from google.colab import files\n",
        "files.download(\"test3.h5\")\n",
        "\n",
        "model = load_model('test3.h5')\n",
        "\n",
        "valid_set= valid_datagen.flow_from_directory(\"test/\", \n",
        "                                             target_size=(128,128), batch_size=100, class_mode=\"categorical\", \n",
        "                                             shuffle=False)\n",
        "\n",
        "test_steps_per_epoch = numpy.math.ceil(valid_set.samples / valid_set.batch_size)\n",
        "valid_set.reset()\n",
        "predictions = model.predict_generator(valid_set, steps=test_steps_per_epoch)\n",
        "\n",
        "classes = valid_set.classes[valid_set.index_array]\n",
        "y_pred=np.argmax(predictions, axis=-1)\n",
        "\n",
        "test=np.argmax(predictions[0:500], axis=-1)\n",
        "print(test)\n",
        "\n",
        "print(confusion_matrix(valid_set.classes[valid_set.index_array],y_pred))\n",
        "\n",
        "#print(y_pred)\n",
        "\n",
        "true_classes = valid_set.classes\n",
        "class_labels = list(valid_set.class_indices.keys())\n",
        "\n",
        "report = metrics.classification_report(true_classes, y_pred, target_names=class_labels)\n",
        "print(report)"
      ],
      "execution_count": 0,
      "outputs": [
        {
          "output_type": "stream",
          "text": [
            "Found 12642 images belonging to 25 classes.\n",
            "[ 0  0  0  0  0  0  0  0  0  0  0  0  0  0  0  0  0  0  0  0  0  0  0  0\n",
            "  0  0  0  0  0  0  0  0  0  0  0  0  0  0  0  0  0  0  0 22  0  0  0  0\n",
            "  0  0  0  0  0  0  0  0  0  0  0  0  0  0  6  0  0  0  0  4  0  0  0  0\n",
            "  0  0  0  0  0  0  0  0  0  0  0  0  0 12  0  0  0  0  0  0  0  0  0  0\n",
            "  0  0  0  6  0  0  0  0  0  0  0  0  0  0  0  0  0  0  0  0  0  0  0  0\n",
            "  6  0  0  0  0  0  0  0  0  0 12  0  0  0  0  0  0  0  0  0  0  0  0  0\n",
            "  0  0  0  0  0  0  0  0  0  0  0  0  0  0  0  0  0  0  0  0  0  0  0  0\n",
            "  0  0  0  0  0 12  0  0  0  0  0  0  0  0  0  0  0  0  0  0  0  0  0  0\n",
            "  0  0  0  0  0  0  0  0  0  0  0  0  0  0  0  0  0  0  0  0  0  0  0  6\n",
            "  0  0  0 16  0  0  0  0  0  0  0  0  0  0  0  0  0  0  0  0  0  4  0  0\n",
            "  0  0  0  0  0  0  0  0  0  0  0  0  0  0  0  0  0  0  0  0  0  0  0  0\n",
            "  0  0  0  0 12  0  0  0  0  0  0  0  0  0  0  6  0  4  0  0  0  0  0  0\n",
            "  0  0  0  0  0  0  0  0  0  0  0  0  0  0  0  0  0  0  0  6  0  0 12  0\n",
            "  0  0  0  0  0  0  0  0  0  0  0  0  0  0  0  0  0  0  0  0  0  0  0  0\n",
            "  0  0  0  0  0  0  0  0  0  0  0  0  0  0 12  0  0  0  0  0  0  0  0  0\n",
            "  0  0  0  0  0  0  0  0  0  0  0  0  0  0  0  0  0  0  0  0  0  0  0  0\n",
            "  0  0  0  0  0  0  0  0  0  0  0  0  0  0  0  0  0  0  0  0  0  0  0  0\n",
            "  0  0  0  0  0  0  0  0  0  0  0  0  0  0  0  0  0  0  0  0  0  0  0  0\n",
            "  0  0  0  0  4  0  0  0 12  1  1  1 11  1  1  1  1  1  1  1  1  1  1  1\n",
            "  1  1  1  1  1  1  1  1  1  1  1  1  1  1  1  1  1  1  1  1  1  1  1  1\n",
            "  1  1  2  1  1  1  1  1  1  1  1  1  1  1  1  1  1  1  1  1]\n",
            "[[422   0   0   0   4   0   6   0   0   0   0   0   7   0   0   0   1   0\n",
            "    0   0   0   0   1   0   0]\n",
            " [  0 656   1   0   0   1   1   0   0   1   0   3   0   2   1   8   1   2\n",
            "    0   1   6   1   1   0   0]\n",
            " [  0   3 694   1   0   2   2   0   0   3   1   0   1   0   0   1   1   3\n",
            "    0   0   1   0   4   0   2]\n",
            " [  0   1   0 466   1   0   0   0   0   0   0   0   1   1   0   1   2   0\n",
            "    0   1   0   0   0   0   0]\n",
            " [  0   0   0   0 313   1  29   0   2   2   0   3   2   0   0   1   0   0\n",
            "    0   0   1   0   3   0   1]\n",
            " [  0   1   0   0   0 626   2   0   0   0   0  15   0   2   2   1  10   4\n",
            "    0   0   4   0   0   1   3]\n",
            " [  0   0   0   0   0   1 744   0   0   2   0   3   1   0   0   1   0   0\n",
            "    0   0   0   0   1   0   2]\n",
            " [  0   4   4   1   2   0   8 307   0   3   0   0   1   0   3   7   0   4\n",
            "    3   0   0   1   2   3   0]\n",
            " [  0  16   0   0   1   1   0   0 311   1   4   6   0   1   1   3   0   3\n",
            "    0   1   3   2   1   0   0]\n",
            " [  0   2   0   0   3   1   5   0   1 441   0   1   0   1   0   4   0   2\n",
            "    0   0   1   1   3   1   0]\n",
            " [  0   6   0   0   1   1   0   0   4   1 352   2   0   0   0   3   0   2\n",
            "    0   0   0  23   1   0   0]\n",
            " [  0  12   0   2   2   9   4   0   0   0   0 626   0   0   1   2   5   1\n",
            "    0   0  13   1   1   0   2]\n",
            " [  0   0   0   0   1   0  11   0   0   0   0   1 342   0   0   1   0   0\n",
            "    0   0   4   0   1   0   0]\n",
            " [  0   5   0   0   0   2   1   0   0   1   0   1   0 376   0   1   1   2\n",
            "    0   2   2   0   0   2   1]\n",
            " [  0   1   0   0   0   0   1   0   0   0   0   0   0   0 399   0   1   0\n",
            "    0   1   0   1   0   0   0]\n",
            " [  0  12   0   0   0   0   2   0   0   2   1   3   0   0   1 705   0   4\n",
            "    0   1   0   0   1   2   0]\n",
            " [  0   5   1   0   0  16   1   0   0   3   0   6   0   3   0   0 627   3\n",
            "    1   1   1   0   0   1   0]\n",
            " [  0  12   1   0   0   4   0   0   0   1   1   3   0   0   2   6   5 589\n",
            "    0   0   5   0   2   0   0]\n",
            " [  0   0   0   0   0   1   0   0   0   3   0   0   0   0   0   0   0   0\n",
            "  389   0   0   0   0   0   0]\n",
            " [  0   3   0   0   1   0   0   0   0   0   0   5   0   2   0   2   0   1\n",
            "    1 334   0   0   0   1   0]\n",
            " [  0  10   0   4   1   5   0   0   0   2   2   3   0   1   0   6   1   4\n",
            "    0   0 662   2   0   0   1]\n",
            " [  0   7   0   0   0   0   0   0   0   1  32   1   0   3   0  10   0   2\n",
            "    0   0   1 311   0   2   1]\n",
            " [  0   4   0   0   2   1  19   0   0   2   1   3   6   1   0  18   0   3\n",
            "    1   1   0   0 308   1   0]\n",
            " [  0   4   0   0   0   0   1   0   0   3   5   2   0   2   0   7   0   0\n",
            "    1   2   0   0   2 488   0]\n",
            " [  0   0   1   0   1   2  20   0   0   4   0   2   1   2   0   1   2   0\n",
            "    0   0   2   0   1   0 345]]\n",
            "              precision    recall  f1-score   support\n",
            "\n",
            "       10026       1.00      0.96      0.98       441\n",
            "       10045       0.86      0.96      0.90       686\n",
            "       10184       0.99      0.97      0.98       719\n",
            "       10932       0.98      0.98      0.98       474\n",
            "       11249       0.94      0.87      0.91       358\n",
            "       12172       0.93      0.93      0.93       671\n",
            "       12718       0.87      0.99      0.92       755\n",
            "       13170       1.00      0.87      0.93       353\n",
            "       13653       0.98      0.88      0.92       355\n",
            "        1878       0.93      0.94      0.94       467\n",
            "        2044       0.88      0.89      0.89       396\n",
            "        2338       0.91      0.92      0.91       681\n",
            "        2870       0.94      0.95      0.95       361\n",
            "        3283       0.95      0.95      0.95       397\n",
            "        3497       0.97      0.99      0.98       404\n",
            "        3804       0.89      0.96      0.93       734\n",
            "        3924       0.95      0.94      0.95       669\n",
            "         428       0.94      0.93      0.93       631\n",
            "        5367       0.98      0.99      0.99       393\n",
            "        6231       0.97      0.95      0.96       350\n",
            "        7092       0.94      0.94      0.94       704\n",
            "        7172       0.91      0.84      0.87       371\n",
            "        7661       0.92      0.83      0.88       371\n",
            "        9029       0.97      0.94      0.96       517\n",
            "        9434       0.96      0.90      0.93       384\n",
            "\n",
            "    accuracy                           0.94     12642\n",
            "   macro avg       0.94      0.93      0.94     12642\n",
            "weighted avg       0.94      0.94      0.94     12642\n",
            "\n"
          ],
          "name": "stdout"
        }
      ]
    },
    {
      "cell_type": "code",
      "metadata": {
        "id": "XX7sKMjsgDsL",
        "colab_type": "code",
        "colab": {}
      },
      "source": [
        ""
      ],
      "execution_count": 0,
      "outputs": []
    },
    {
      "cell_type": "code",
      "metadata": {
        "id": "9gSwVT0_hO8g",
        "colab_type": "code",
        "outputId": "2c80e661-a24b-4206-e8cb-6e57c6026d55",
        "colab": {
          "base_uri": "https://localhost:8080/",
          "height": 514
        }
      },
      "source": [
        "import numpy as np\n",
        "import pandas as pd\n",
        "from keras.preprocessing.image import ImageDataGenerator\n",
        "from keras.models import load_model\n",
        "from PIL import Image\n",
        "\n",
        "\n",
        "model = load_model('/content/25class/test3.h5')\n",
        "img = Image.open('/content/55f050d5462489a0.jpg')\n",
        "img = img.resize((128,128))\n",
        "img = np.array(img)\n",
        "img = img / 255.0\n",
        "img = img.reshape(1,128,128,3)\n",
        "pred_probab=model.predict(img)\n",
        "result = np.argmax(pred_probab, axis=1)\n",
        "print(pred_probab)\n",
        "\n",
        "\n"
      ],
      "execution_count": 0,
      "outputs": [
        {
          "output_type": "stream",
          "text": [
            "Using TensorFlow backend.\n"
          ],
          "name": "stderr"
        },
        {
          "output_type": "error",
          "ename": "OSError",
          "evalue": "ignored",
          "traceback": [
            "\u001b[0;31m---------------------------------------------------------------------------\u001b[0m",
            "\u001b[0;31mOSError\u001b[0m                                   Traceback (most recent call last)",
            "\u001b[0;32m<ipython-input-1-d3b559d94f74>\u001b[0m in \u001b[0;36m<module>\u001b[0;34m()\u001b[0m\n\u001b[1;32m      6\u001b[0m \u001b[0;34m\u001b[0m\u001b[0m\n\u001b[1;32m      7\u001b[0m \u001b[0;34m\u001b[0m\u001b[0m\n\u001b[0;32m----> 8\u001b[0;31m \u001b[0mmodel\u001b[0m \u001b[0;34m=\u001b[0m \u001b[0mload_model\u001b[0m\u001b[0;34m(\u001b[0m\u001b[0;34m'/content/25class/test3.h5'\u001b[0m\u001b[0;34m)\u001b[0m\u001b[0;34m\u001b[0m\u001b[0;34m\u001b[0m\u001b[0m\n\u001b[0m\u001b[1;32m      9\u001b[0m \u001b[0mimg\u001b[0m \u001b[0;34m=\u001b[0m \u001b[0mImage\u001b[0m\u001b[0;34m.\u001b[0m\u001b[0mopen\u001b[0m\u001b[0;34m(\u001b[0m\u001b[0;34m'/content/55f050d5462489a0.jpg'\u001b[0m\u001b[0;34m)\u001b[0m\u001b[0;34m\u001b[0m\u001b[0;34m\u001b[0m\u001b[0m\n\u001b[1;32m     10\u001b[0m \u001b[0mimg\u001b[0m \u001b[0;34m=\u001b[0m \u001b[0mimg\u001b[0m\u001b[0;34m.\u001b[0m\u001b[0mresize\u001b[0m\u001b[0;34m(\u001b[0m\u001b[0;34m(\u001b[0m\u001b[0;36m128\u001b[0m\u001b[0;34m,\u001b[0m\u001b[0;36m128\u001b[0m\u001b[0;34m)\u001b[0m\u001b[0;34m)\u001b[0m\u001b[0;34m\u001b[0m\u001b[0;34m\u001b[0m\u001b[0m\n",
            "\u001b[0;32m/usr/local/lib/python3.6/dist-packages/keras/engine/saving.py\u001b[0m in \u001b[0;36mload_wrapper\u001b[0;34m(*args, **kwargs)\u001b[0m\n\u001b[1;32m    490\u001b[0m                 \u001b[0mos\u001b[0m\u001b[0;34m.\u001b[0m\u001b[0mremove\u001b[0m\u001b[0;34m(\u001b[0m\u001b[0mtmp_filepath\u001b[0m\u001b[0;34m)\u001b[0m\u001b[0;34m\u001b[0m\u001b[0;34m\u001b[0m\u001b[0m\n\u001b[1;32m    491\u001b[0m             \u001b[0;32mreturn\u001b[0m \u001b[0mres\u001b[0m\u001b[0;34m\u001b[0m\u001b[0;34m\u001b[0m\u001b[0m\n\u001b[0;32m--> 492\u001b[0;31m         \u001b[0;32mreturn\u001b[0m \u001b[0mload_function\u001b[0m\u001b[0;34m(\u001b[0m\u001b[0;34m*\u001b[0m\u001b[0margs\u001b[0m\u001b[0;34m,\u001b[0m \u001b[0;34m**\u001b[0m\u001b[0mkwargs\u001b[0m\u001b[0;34m)\u001b[0m\u001b[0;34m\u001b[0m\u001b[0;34m\u001b[0m\u001b[0m\n\u001b[0m\u001b[1;32m    493\u001b[0m \u001b[0;34m\u001b[0m\u001b[0m\n\u001b[1;32m    494\u001b[0m     \u001b[0;32mreturn\u001b[0m \u001b[0mload_wrapper\u001b[0m\u001b[0;34m\u001b[0m\u001b[0;34m\u001b[0m\u001b[0m\n",
            "\u001b[0;32m/usr/local/lib/python3.6/dist-packages/keras/engine/saving.py\u001b[0m in \u001b[0;36mload_model\u001b[0;34m(filepath, custom_objects, compile)\u001b[0m\n\u001b[1;32m    581\u001b[0m \u001b[0;34m\u001b[0m\u001b[0m\n\u001b[1;32m    582\u001b[0m     \u001b[0;32mif\u001b[0m \u001b[0mH5Dict\u001b[0m\u001b[0;34m.\u001b[0m\u001b[0mis_supported_type\u001b[0m\u001b[0;34m(\u001b[0m\u001b[0mfilepath\u001b[0m\u001b[0;34m)\u001b[0m\u001b[0;34m:\u001b[0m\u001b[0;34m\u001b[0m\u001b[0;34m\u001b[0m\u001b[0m\n\u001b[0;32m--> 583\u001b[0;31m         \u001b[0;32mwith\u001b[0m \u001b[0mH5Dict\u001b[0m\u001b[0;34m(\u001b[0m\u001b[0mfilepath\u001b[0m\u001b[0;34m,\u001b[0m \u001b[0mmode\u001b[0m\u001b[0;34m=\u001b[0m\u001b[0;34m'r'\u001b[0m\u001b[0;34m)\u001b[0m \u001b[0;32mas\u001b[0m \u001b[0mh5dict\u001b[0m\u001b[0;34m:\u001b[0m\u001b[0;34m\u001b[0m\u001b[0;34m\u001b[0m\u001b[0m\n\u001b[0m\u001b[1;32m    584\u001b[0m             \u001b[0mmodel\u001b[0m \u001b[0;34m=\u001b[0m \u001b[0m_deserialize_model\u001b[0m\u001b[0;34m(\u001b[0m\u001b[0mh5dict\u001b[0m\u001b[0;34m,\u001b[0m \u001b[0mcustom_objects\u001b[0m\u001b[0;34m,\u001b[0m \u001b[0mcompile\u001b[0m\u001b[0;34m)\u001b[0m\u001b[0;34m\u001b[0m\u001b[0;34m\u001b[0m\u001b[0m\n\u001b[1;32m    585\u001b[0m     \u001b[0;32melif\u001b[0m \u001b[0mhasattr\u001b[0m\u001b[0;34m(\u001b[0m\u001b[0mfilepath\u001b[0m\u001b[0;34m,\u001b[0m \u001b[0;34m'write'\u001b[0m\u001b[0;34m)\u001b[0m \u001b[0;32mand\u001b[0m \u001b[0mcallable\u001b[0m\u001b[0;34m(\u001b[0m\u001b[0mfilepath\u001b[0m\u001b[0;34m.\u001b[0m\u001b[0mwrite\u001b[0m\u001b[0;34m)\u001b[0m\u001b[0;34m:\u001b[0m\u001b[0;34m\u001b[0m\u001b[0;34m\u001b[0m\u001b[0m\n",
            "\u001b[0;32m/usr/local/lib/python3.6/dist-packages/keras/utils/io_utils.py\u001b[0m in \u001b[0;36m__init__\u001b[0;34m(self, path, mode)\u001b[0m\n\u001b[1;32m    189\u001b[0m             \u001b[0mself\u001b[0m\u001b[0;34m.\u001b[0m\u001b[0m_is_file\u001b[0m \u001b[0;34m=\u001b[0m \u001b[0;32mFalse\u001b[0m\u001b[0;34m\u001b[0m\u001b[0;34m\u001b[0m\u001b[0m\n\u001b[1;32m    190\u001b[0m         \u001b[0;32melif\u001b[0m \u001b[0misinstance\u001b[0m\u001b[0;34m(\u001b[0m\u001b[0mpath\u001b[0m\u001b[0;34m,\u001b[0m \u001b[0msix\u001b[0m\u001b[0;34m.\u001b[0m\u001b[0mstring_types\u001b[0m\u001b[0;34m)\u001b[0m \u001b[0;32mor\u001b[0m \u001b[0m_is_path_instance\u001b[0m\u001b[0;34m(\u001b[0m\u001b[0mpath\u001b[0m\u001b[0;34m)\u001b[0m\u001b[0;34m:\u001b[0m\u001b[0;34m\u001b[0m\u001b[0;34m\u001b[0m\u001b[0m\n\u001b[0;32m--> 191\u001b[0;31m             \u001b[0mself\u001b[0m\u001b[0;34m.\u001b[0m\u001b[0mdata\u001b[0m \u001b[0;34m=\u001b[0m \u001b[0mh5py\u001b[0m\u001b[0;34m.\u001b[0m\u001b[0mFile\u001b[0m\u001b[0;34m(\u001b[0m\u001b[0mpath\u001b[0m\u001b[0;34m,\u001b[0m \u001b[0mmode\u001b[0m\u001b[0;34m=\u001b[0m\u001b[0mmode\u001b[0m\u001b[0;34m)\u001b[0m\u001b[0;34m\u001b[0m\u001b[0;34m\u001b[0m\u001b[0m\n\u001b[0m\u001b[1;32m    192\u001b[0m             \u001b[0mself\u001b[0m\u001b[0;34m.\u001b[0m\u001b[0m_is_file\u001b[0m \u001b[0;34m=\u001b[0m \u001b[0;32mTrue\u001b[0m\u001b[0;34m\u001b[0m\u001b[0;34m\u001b[0m\u001b[0m\n\u001b[1;32m    193\u001b[0m         \u001b[0;32melif\u001b[0m \u001b[0misinstance\u001b[0m\u001b[0;34m(\u001b[0m\u001b[0mpath\u001b[0m\u001b[0;34m,\u001b[0m \u001b[0mdict\u001b[0m\u001b[0;34m)\u001b[0m\u001b[0;34m:\u001b[0m\u001b[0;34m\u001b[0m\u001b[0;34m\u001b[0m\u001b[0m\n",
            "\u001b[0;32m/usr/local/lib/python3.6/dist-packages/h5py/_hl/files.py\u001b[0m in \u001b[0;36m__init__\u001b[0;34m(self, name, mode, driver, libver, userblock_size, swmr, rdcc_nslots, rdcc_nbytes, rdcc_w0, track_order, **kwds)\u001b[0m\n\u001b[1;32m    406\u001b[0m                 fid = make_fid(name, mode, userblock_size,\n\u001b[1;32m    407\u001b[0m                                \u001b[0mfapl\u001b[0m\u001b[0;34m,\u001b[0m \u001b[0mfcpl\u001b[0m\u001b[0;34m=\u001b[0m\u001b[0mmake_fcpl\u001b[0m\u001b[0;34m(\u001b[0m\u001b[0mtrack_order\u001b[0m\u001b[0;34m=\u001b[0m\u001b[0mtrack_order\u001b[0m\u001b[0;34m)\u001b[0m\u001b[0;34m,\u001b[0m\u001b[0;34m\u001b[0m\u001b[0;34m\u001b[0m\u001b[0m\n\u001b[0;32m--> 408\u001b[0;31m                                swmr=swmr)\n\u001b[0m\u001b[1;32m    409\u001b[0m \u001b[0;34m\u001b[0m\u001b[0m\n\u001b[1;32m    410\u001b[0m             \u001b[0;32mif\u001b[0m \u001b[0misinstance\u001b[0m\u001b[0;34m(\u001b[0m\u001b[0mlibver\u001b[0m\u001b[0;34m,\u001b[0m \u001b[0mtuple\u001b[0m\u001b[0;34m)\u001b[0m\u001b[0;34m:\u001b[0m\u001b[0;34m\u001b[0m\u001b[0;34m\u001b[0m\u001b[0m\n",
            "\u001b[0;32m/usr/local/lib/python3.6/dist-packages/h5py/_hl/files.py\u001b[0m in \u001b[0;36mmake_fid\u001b[0;34m(name, mode, userblock_size, fapl, fcpl, swmr)\u001b[0m\n\u001b[1;32m    171\u001b[0m         \u001b[0;32mif\u001b[0m \u001b[0mswmr\u001b[0m \u001b[0;32mand\u001b[0m \u001b[0mswmr_support\u001b[0m\u001b[0;34m:\u001b[0m\u001b[0;34m\u001b[0m\u001b[0;34m\u001b[0m\u001b[0m\n\u001b[1;32m    172\u001b[0m             \u001b[0mflags\u001b[0m \u001b[0;34m|=\u001b[0m \u001b[0mh5f\u001b[0m\u001b[0;34m.\u001b[0m\u001b[0mACC_SWMR_READ\u001b[0m\u001b[0;34m\u001b[0m\u001b[0;34m\u001b[0m\u001b[0m\n\u001b[0;32m--> 173\u001b[0;31m         \u001b[0mfid\u001b[0m \u001b[0;34m=\u001b[0m \u001b[0mh5f\u001b[0m\u001b[0;34m.\u001b[0m\u001b[0mopen\u001b[0m\u001b[0;34m(\u001b[0m\u001b[0mname\u001b[0m\u001b[0;34m,\u001b[0m \u001b[0mflags\u001b[0m\u001b[0;34m,\u001b[0m \u001b[0mfapl\u001b[0m\u001b[0;34m=\u001b[0m\u001b[0mfapl\u001b[0m\u001b[0;34m)\u001b[0m\u001b[0;34m\u001b[0m\u001b[0;34m\u001b[0m\u001b[0m\n\u001b[0m\u001b[1;32m    174\u001b[0m     \u001b[0;32melif\u001b[0m \u001b[0mmode\u001b[0m \u001b[0;34m==\u001b[0m \u001b[0;34m'r+'\u001b[0m\u001b[0;34m:\u001b[0m\u001b[0;34m\u001b[0m\u001b[0;34m\u001b[0m\u001b[0m\n\u001b[1;32m    175\u001b[0m         \u001b[0mfid\u001b[0m \u001b[0;34m=\u001b[0m \u001b[0mh5f\u001b[0m\u001b[0;34m.\u001b[0m\u001b[0mopen\u001b[0m\u001b[0;34m(\u001b[0m\u001b[0mname\u001b[0m\u001b[0;34m,\u001b[0m \u001b[0mh5f\u001b[0m\u001b[0;34m.\u001b[0m\u001b[0mACC_RDWR\u001b[0m\u001b[0;34m,\u001b[0m \u001b[0mfapl\u001b[0m\u001b[0;34m=\u001b[0m\u001b[0mfapl\u001b[0m\u001b[0;34m)\u001b[0m\u001b[0;34m\u001b[0m\u001b[0;34m\u001b[0m\u001b[0m\n",
            "\u001b[0;32mh5py/_objects.pyx\u001b[0m in \u001b[0;36mh5py._objects.with_phil.wrapper\u001b[0;34m()\u001b[0m\n",
            "\u001b[0;32mh5py/_objects.pyx\u001b[0m in \u001b[0;36mh5py._objects.with_phil.wrapper\u001b[0;34m()\u001b[0m\n",
            "\u001b[0;32mh5py/h5f.pyx\u001b[0m in \u001b[0;36mh5py.h5f.open\u001b[0;34m()\u001b[0m\n",
            "\u001b[0;31mOSError\u001b[0m: Unable to open file (unable to open file: name = '/content/25class/test3.h5', errno = 2, error message = 'No such file or directory', flags = 0, o_flags = 0)"
          ]
        }
      ]
    },
    {
      "cell_type": "code",
      "metadata": {
        "colab_type": "code",
        "id": "9zf7u2MktChc",
        "colab": {}
      },
      "source": [
        "\n"
      ],
      "execution_count": 0,
      "outputs": []
    },
    {
      "cell_type": "code",
      "metadata": {
        "id": "AXGzrylbF0G4",
        "colab_type": "code",
        "outputId": "68d16a49-621b-4cd9-a1f0-b76f8e88b8e4",
        "colab": {
          "base_uri": "https://localhost:8080/",
          "height": 34
        }
      },
      "source": [
        "from zipfile import ZipFile\n",
        "file_name=\"25class.zip\"\n",
        "with ZipFile(file_name,'r') as zip:\n",
        "  zip.extractall()\n",
        "  print('done')\n"
      ],
      "execution_count": 0,
      "outputs": [
        {
          "output_type": "stream",
          "text": [
            "done\n"
          ],
          "name": "stdout"
        }
      ]
    },
    {
      "cell_type": "code",
      "metadata": {
        "id": "E6bripXUVG_B",
        "colab_type": "code",
        "outputId": "ec9fee9e-551a-486d-c522-3b2b535c6ffd",
        "colab": {
          "base_uri": "https://localhost:8080/",
          "height": 34
        }
      },
      "source": [
        "%ls"
      ],
      "execution_count": 0,
      "outputs": [
        {
          "output_type": "stream",
          "text": [
            "\u001b[0m\u001b[01;34mtest\u001b[0m/  test3.h5  \u001b[01;34mtrain\u001b[0m/\n"
          ],
          "name": "stdout"
        }
      ]
    },
    {
      "cell_type": "code",
      "metadata": {
        "id": "n1twmKxvZoOV",
        "colab_type": "code",
        "colab": {}
      },
      "source": [
        ""
      ],
      "execution_count": 0,
      "outputs": []
    }
  ]
}